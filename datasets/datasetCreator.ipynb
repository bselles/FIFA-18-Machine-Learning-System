{
 "cells": [
  {
   "cell_type": "code",
   "execution_count": 57,
   "metadata": {},
   "outputs": [],
   "source": [
    "#IMPORTS NECESARIOS\n",
    "import numpy as np\n",
    "import csv\n",
    "import pandas as pd\n",
    "\n",
    "from sklearn import preprocessing\n",
    "from sklearn import datasets, linear_model\n",
    "from sklearn.model_selection import cross_val_score\n",
    "from sklearn.model_selection import train_test_split\n",
    "from sklearn.metrics import accuracy_score\n",
    "\n",
    "from sklearn import svm\n",
    "from sklearn import preprocessing\n",
    "from sklearn.ensemble import RandomForestClassifier\n",
    "from sklearn.neighbors import KNeighborsClassifier\n",
    "from sklearn.ensemble import AdaBoostClassifier\n",
    "from sklearn.ensemble import BaggingClassifier\n",
    "from sklearn.ensemble import GradientBoostingClassifier\n",
    "\n",
    "from sklearn.feature_selection import SelectKBest\n",
    "from sklearn.feature_selection import chi2\n",
    "from sklearn.feature_selection import RFE\n",
    "from sklearn.linear_model import LogisticRegression\n",
    "from sklearn.decomposition import PCA\n",
    "from sklearn.ensemble import ExtraTreesClassifier"
   ]
  },
  {
   "cell_type": "code",
   "execution_count": 58,
   "metadata": {},
   "outputs": [],
   "source": [
    "#Cargamos el df asociado al csv situado en path.\n",
    "def loadDataset(path):\n",
    "    f = \"CompleteDataset.csv\"\n",
    "    names =['Name','Age','Photo','Nationality','Flag','Overall','Potential','Club','Club Logo','Value','Wage','Special','Acceleration','Aggression','Agility','Balance','Ball control','Composure','Crossing','Curve','Dribbling','Finishing','Free kick accuracy','GK diving','GK handling','GK kicking','GK positioning','GK reflexes','Heading accuracy','Interceptions','Jumping','Long passing','Long shots','Marking','Penalties','Positioning','Reactions','Short passing','Shot power','Sliding tackle','Sprint speed','Stamina','Standing tackle','Strength','Vision','Volleys','CAM','CB','CDM','CF','CM','ID','LAM','LB','LCB','LCM','LDM','LF','LM','LS','LW','LWB','Preferred Positions','RAM','RB','RCB','RCM','RDM','RF','RM','RS','RW','RWB','ST'];\n",
    "    return pd.read_csv(f, names=names).dropna()    #Devolvemos el dataframe."
   ]
  },
  {
   "cell_type": "code",
   "execution_count": 59,
   "metadata": {},
   "outputs": [],
   "source": [
    "#Elimina el resto de las posiciones asociadas a los jugadores del df, dejando \n",
    "#solo una posición por jugador.\n",
    "def pickOnlyOnePosition(df):\n",
    "    #Para cada jugador, existe un atributo \"Preferred Positions\".\n",
    "    #En esta columna del df, pueden aparecer varias posiciones.\n",
    "    #Cogemos solo la primera posición preferida de cada jugador.\n",
    "    position= list (df['Preferred Positions'])\n",
    "    result=list()\n",
    "    for x in df['Preferred Positions']:\n",
    "        result.append(x.split(' ')[0])\n",
    "    df['Preferred Positions']=result\n",
    "    return df"
   ]
  },
  {
   "cell_type": "code",
   "execution_count": 60,
   "metadata": {},
   "outputs": [],
   "source": [
    "#Convierte las atributos no numéricos en numéricos.\n",
    "def col_to_num(df,feature):\n",
    "    le = preprocessing.LabelEncoder()\n",
    "    binary = le.fit_transform(df[feature])\n",
    "    df[feature] = binary\n",
    "    return df"
   ]
  },
  {
   "cell_type": "code",
   "execution_count": 61,
   "metadata": {},
   "outputs": [],
   "source": [
    "#Elimina atributos innecesarios y cambia a numéricos los atributos no numéricos.\n",
    "#Algunos atributos, como \"Aggression\" podrían ser de utilidad pero, pero han sido eliminados para\n",
    "#evitar tener demasiados.\n",
    "#Actualmente, tendremos 15 más una columna más que determina la clase (posición)\n",
    "#del jugador.\n",
    "def deleteAndChange(df):\n",
    "    #Transformamos los atributos no numéricos en numéricos.\n",
    "    #También eliminamos algunos de los atributos no útiles (\"Photo\", \"Name\",...) y otros que probablemente serían útiles pero\n",
    "    #ya había muchos. \n",
    "    sel_features =['Acceleration','Agility','Ball control','Crossing','Dribbling','Finishing','GK diving','GK reflexes','Interceptions','Long passing','Marking','Short passing','Sprint speed','Strength','Vision','Preferred Positions'];\n",
    "    df = df[sel_features]\n",
    "    non_numeric=['Preferred Positions']\n",
    "    for f in non_numeric:\n",
    "        df=col_to_num(df,f)\n",
    "\n",
    "    return df"
   ]
  },
  {
   "cell_type": "code",
   "execution_count": 63,
   "metadata": {
    "scrolled": false
   },
   "outputs": [
    {
     "name": "stderr",
     "output_type": "stream",
     "text": [
      "C:\\Anaconda3\\lib\\site-packages\\IPython\\core\\interactiveshell.py:2850: DtypeWarning: Columns (23,35) have mixed types. Specify dtype option on import or set low_memory=False.\n",
      "  if self.run_code(code, result):\n",
      "C:\\Anaconda3\\lib\\site-packages\\ipykernel_launcher.py:5: SettingWithCopyWarning: \n",
      "A value is trying to be set on a copy of a slice from a DataFrame.\n",
      "Try using .loc[row_indexer,col_indexer] = value instead\n",
      "\n",
      "See the caveats in the documentation: http://pandas.pydata.org/pandas-docs/stable/indexing.html#indexing-view-versus-copy\n",
      "  \"\"\"\n"
     ]
    }
   ],
   "source": [
    "#MAIN\n",
    " \n",
    "df=loadDataset(\"CompleteDataset.cvs\")                 #Cargamos el dataset.\n",
    "df=pickOnlyOnePosition(df)                            #Eliminamos posiciones redundantes.\n",
    "df=deleteAndChange(df)                                #Eliminamos atributos inútiles y cambiamos los artributos no numéricos a numéricos.\n",
    "\n",
    "#Los resultados obtenidos en la transformación de los atributos no numéricos a numéricos puede generar errores\n",
    "#(valores no válidos). En la parte de octave, se eliminan los valores cuyas clases no se encuentran entre 0 y 13 (un total\n",
    "# de catorce clases).\n",
    "\n",
    "#display(df)\n",
    "\n",
    "#Diferenciamos entre ejemplos de entrenamiento, ejemplos de validación y ejemplos de test.\n",
    "#Los primeros consistirán en el 60% de los ejemplos iniciales. Los segundos y terceros en 20% cada uno.\n",
    "x = df.sample(int(len(df)*0.6))     #Cogemos 0.6*len(df) elementos aleatorios del df. Serán los ejemplos de entrenamiento.\n",
    "xval= df.sample(int(len(df)*0.2))   #Cogemos 0.2*len(df) elementos aleatorios del df. Serán los datos de validación.\n",
    "xtest= df.sample(int(len(df)*0.2))  #Cogemos 0.2*len(df) elementos aleatorios del df. Serán los datos de test.\n",
    "\n",
    "x.to_csv(path_or_buf=\"x.csv\",header=False,index=False)    #Almacenamos los resultados.\n",
    "xval.to_csv(path_or_buf=\"xval.csv\",header=False,index=False)    #Almacenamos los resultados.\n",
    "xtest.to_csv(path_or_buf=\"xtest.csv\",header=False,index=False)    #Almacenamos los resultados.\n",
    "\n"
   ]
  },
  {
   "cell_type": "code",
   "execution_count": null,
   "metadata": {},
   "outputs": [],
   "source": []
  }
 ],
 "metadata": {
  "kernelspec": {
   "display_name": "Python 3",
   "language": "python",
   "name": "python3"
  },
  "language_info": {
   "codemirror_mode": {
    "name": "ipython",
    "version": 3
   },
   "file_extension": ".py",
   "mimetype": "text/x-python",
   "name": "python",
   "nbconvert_exporter": "python",
   "pygments_lexer": "ipython3",
   "version": "3.6.4"
  }
 },
 "nbformat": 4,
 "nbformat_minor": 1
}
