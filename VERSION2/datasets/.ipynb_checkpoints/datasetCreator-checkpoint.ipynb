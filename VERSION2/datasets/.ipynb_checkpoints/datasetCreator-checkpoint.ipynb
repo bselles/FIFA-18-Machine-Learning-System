{
 "cells": [
  {
   "cell_type": "code",
   "execution_count": 2,
   "metadata": {},
   "outputs": [],
   "source": [
    "#IMPORTS NECESARIOS\n",
    "import numpy as np\n",
    "import csv\n",
    "import pandas as pd\n",
    "\n",
    "from sklearn import preprocessing\n",
    "from sklearn import datasets, linear_model\n",
    "from sklearn.model_selection import cross_val_score\n",
    "from sklearn.model_selection import train_test_split\n",
    "from sklearn.metrics import accuracy_score\n",
    "\n",
    "from sklearn import svm\n",
    "from sklearn import preprocessing\n",
    "from sklearn.ensemble import RandomForestClassifier\n",
    "from sklearn.neighbors import KNeighborsClassifier\n",
    "from sklearn.ensemble import AdaBoostClassifier\n",
    "from sklearn.ensemble import BaggingClassifier\n",
    "from sklearn.ensemble import GradientBoostingClassifier\n",
    "\n",
    "from sklearn.feature_selection import SelectKBest\n",
    "from sklearn.feature_selection import chi2\n",
    "from sklearn.feature_selection import RFE\n",
    "from sklearn.linear_model import LogisticRegression\n",
    "from sklearn.decomposition import PCA\n",
    "from sklearn.ensemble import ExtraTreesClassifier"
   ]
  },
  {
   "cell_type": "code",
   "execution_count": 3,
   "metadata": {},
   "outputs": [],
   "source": [
    "#Cargamos el df asociado al csv situado en path.\n",
    "def loadDataset(path):\n",
    "    names =['Name','Age','Photo','Nationality','Flag','Overall','Potential','Club','Club Logo','Value','Wage','Special','Acceleration','Aggression','Agility','Balance','Ball control','Composure','Crossing','Curve','Dribbling','Finishing','Free kick accuracy','GK diving','GK handling','GK kicking','GK positioning','GK reflexes','Heading accuracy','Interceptions','Jumping','Long passing','Long shots','Marking','Penalties','Positioning','Reactions','Short passing','Shot power','Sliding tackle','Sprint speed','Stamina','Standing tackle','Strength','Vision','Volleys','CAM','CB','CDM','CF','CM','ID','LAM','LB','LCB','LCM','LDM','LF','LM','LS','LW','LWB','Preferred Positions','RAM','RB','RCB','RCM','RDM','RF','RM','RS','RW','RWB','ST'];\n",
    "    return pd.read_csv(path, names=names).dropna()    #Devolvemos el dataframe."
   ]
  },
  {
   "cell_type": "code",
   "execution_count": 4,
   "metadata": {},
   "outputs": [],
   "source": [
    "#Elimina atributos innecesarios.\n",
    "#Algunos atributos, como \"Aggression\" podrían ser de utilidad pero, pero han sido eliminados para\n",
    "#evitar tener demasiados.\n",
    "\n",
    "def deleteFeatures(df):    \n",
    "    #DISTRIBUCIÓN 1\n",
    "    #sel_features =['Acceleration','Agility','Ball control','Crossing','Dribbling','Finishing','GK diving','GK reflexes','Interceptions','Long passing','Marking','Short passing','Sprint speed','Strength','Vision','Overall'];\n",
    "    \n",
    "    #DISTRIBUCIÓN 2 -->Contiene todos los atributos numéricos relevantes. 31 features (30 + 1)\n",
    "    sel_features =['Acceleration','Aggression','Agility','Balance','Ball control','Composure','Crossing',\n",
    "                   'Curve','Dribbling','Finishing',\"Free kick accuracy\",'GK diving','GK reflexes',\n",
    "                   'GK handling', 'GK kicking','GK positioning', 'Heading accuracy','Jumping',\n",
    "                   'Interceptions','Long shots','Long passing','Marking','Short passing',\n",
    "                   'Positioning','Shot power', 'Sliding tackle', 'Volleys',\n",
    "                   'Sprint speed','Strength','Vision','Overall'];\n",
    "    \n",
    "    #DISTRIBUCION 3\n",
    "    #sel_features =['Acceleration','Agility','Ball control','Crossing',\n",
    "    #               'Curve','Dribbling','Finishing','GK diving',\n",
    "    #              'Interceptions','Long shots','Long passing','Marking','Short passing',\n",
    "    #              'Sliding tackle', 'Volleys',\n",
    "    #               'Sprint speed','Strength','Vision','Preferred Positions'];\n",
    "  \n",
    "    print(len(sel_features))\n",
    "    df = df[sel_features]\n",
    "\n",
    "    return df"
   ]
  },
  {
   "cell_type": "code",
   "execution_count": 5,
   "metadata": {
    "scrolled": false
   },
   "outputs": [
    {
     "ename": "FileNotFoundError",
     "evalue": "File b'CompleteDataset.csv' does not exist",
     "output_type": "error",
     "traceback": [
      "\u001b[1;31m---------------------------------------------------------------------------\u001b[0m",
      "\u001b[1;31mFileNotFoundError\u001b[0m                         Traceback (most recent call last)",
      "\u001b[1;32m<ipython-input-5-f5e78959ff22>\u001b[0m in \u001b[0;36m<module>\u001b[1;34m()\u001b[0m\n\u001b[0;32m      1\u001b[0m \u001b[1;31m#MAIN\u001b[0m\u001b[1;33m\u001b[0m\u001b[1;33m\u001b[0m\u001b[0m\n\u001b[0;32m      2\u001b[0m \u001b[1;33m\u001b[0m\u001b[0m\n\u001b[1;32m----> 3\u001b[1;33m \u001b[0mdf\u001b[0m\u001b[1;33m=\u001b[0m\u001b[0mloadDataset\u001b[0m\u001b[1;33m(\u001b[0m\u001b[1;34m\"CompleteDataset.csv\"\u001b[0m\u001b[1;33m)\u001b[0m                 \u001b[1;31m#Cargamos el dataset.\u001b[0m\u001b[1;33m\u001b[0m\u001b[0m\n\u001b[0m\u001b[0;32m      4\u001b[0m \u001b[0mdf\u001b[0m\u001b[1;33m=\u001b[0m\u001b[0mdeleteFeatures\u001b[0m\u001b[1;33m(\u001b[0m\u001b[0mdf\u001b[0m\u001b[1;33m)\u001b[0m                                                 \u001b[1;31m#Eliminamos atributos inútiles.\u001b[0m\u001b[1;33m\u001b[0m\u001b[0m\n\u001b[0;32m      5\u001b[0m \u001b[1;33m\u001b[0m\u001b[0m\n",
      "\u001b[1;32m<ipython-input-3-5d91b4330543>\u001b[0m in \u001b[0;36mloadDataset\u001b[1;34m(path)\u001b[0m\n\u001b[0;32m      2\u001b[0m \u001b[1;32mdef\u001b[0m \u001b[0mloadDataset\u001b[0m\u001b[1;33m(\u001b[0m\u001b[0mpath\u001b[0m\u001b[1;33m)\u001b[0m\u001b[1;33m:\u001b[0m\u001b[1;33m\u001b[0m\u001b[0m\n\u001b[0;32m      3\u001b[0m     \u001b[0mnames\u001b[0m \u001b[1;33m=\u001b[0m\u001b[1;33m[\u001b[0m\u001b[1;34m'Name'\u001b[0m\u001b[1;33m,\u001b[0m\u001b[1;34m'Age'\u001b[0m\u001b[1;33m,\u001b[0m\u001b[1;34m'Photo'\u001b[0m\u001b[1;33m,\u001b[0m\u001b[1;34m'Nationality'\u001b[0m\u001b[1;33m,\u001b[0m\u001b[1;34m'Flag'\u001b[0m\u001b[1;33m,\u001b[0m\u001b[1;34m'Overall'\u001b[0m\u001b[1;33m,\u001b[0m\u001b[1;34m'Potential'\u001b[0m\u001b[1;33m,\u001b[0m\u001b[1;34m'Club'\u001b[0m\u001b[1;33m,\u001b[0m\u001b[1;34m'Club Logo'\u001b[0m\u001b[1;33m,\u001b[0m\u001b[1;34m'Value'\u001b[0m\u001b[1;33m,\u001b[0m\u001b[1;34m'Wage'\u001b[0m\u001b[1;33m,\u001b[0m\u001b[1;34m'Special'\u001b[0m\u001b[1;33m,\u001b[0m\u001b[1;34m'Acceleration'\u001b[0m\u001b[1;33m,\u001b[0m\u001b[1;34m'Aggression'\u001b[0m\u001b[1;33m,\u001b[0m\u001b[1;34m'Agility'\u001b[0m\u001b[1;33m,\u001b[0m\u001b[1;34m'Balance'\u001b[0m\u001b[1;33m,\u001b[0m\u001b[1;34m'Ball control'\u001b[0m\u001b[1;33m,\u001b[0m\u001b[1;34m'Composure'\u001b[0m\u001b[1;33m,\u001b[0m\u001b[1;34m'Crossing'\u001b[0m\u001b[1;33m,\u001b[0m\u001b[1;34m'Curve'\u001b[0m\u001b[1;33m,\u001b[0m\u001b[1;34m'Dribbling'\u001b[0m\u001b[1;33m,\u001b[0m\u001b[1;34m'Finishing'\u001b[0m\u001b[1;33m,\u001b[0m\u001b[1;34m'Free kick accuracy'\u001b[0m\u001b[1;33m,\u001b[0m\u001b[1;34m'GK diving'\u001b[0m\u001b[1;33m,\u001b[0m\u001b[1;34m'GK handling'\u001b[0m\u001b[1;33m,\u001b[0m\u001b[1;34m'GK kicking'\u001b[0m\u001b[1;33m,\u001b[0m\u001b[1;34m'GK positioning'\u001b[0m\u001b[1;33m,\u001b[0m\u001b[1;34m'GK reflexes'\u001b[0m\u001b[1;33m,\u001b[0m\u001b[1;34m'Heading accuracy'\u001b[0m\u001b[1;33m,\u001b[0m\u001b[1;34m'Interceptions'\u001b[0m\u001b[1;33m,\u001b[0m\u001b[1;34m'Jumping'\u001b[0m\u001b[1;33m,\u001b[0m\u001b[1;34m'Long passing'\u001b[0m\u001b[1;33m,\u001b[0m\u001b[1;34m'Long shots'\u001b[0m\u001b[1;33m,\u001b[0m\u001b[1;34m'Marking'\u001b[0m\u001b[1;33m,\u001b[0m\u001b[1;34m'Penalties'\u001b[0m\u001b[1;33m,\u001b[0m\u001b[1;34m'Positioning'\u001b[0m\u001b[1;33m,\u001b[0m\u001b[1;34m'Reactions'\u001b[0m\u001b[1;33m,\u001b[0m\u001b[1;34m'Short passing'\u001b[0m\u001b[1;33m,\u001b[0m\u001b[1;34m'Shot power'\u001b[0m\u001b[1;33m,\u001b[0m\u001b[1;34m'Sliding tackle'\u001b[0m\u001b[1;33m,\u001b[0m\u001b[1;34m'Sprint speed'\u001b[0m\u001b[1;33m,\u001b[0m\u001b[1;34m'Stamina'\u001b[0m\u001b[1;33m,\u001b[0m\u001b[1;34m'Standing tackle'\u001b[0m\u001b[1;33m,\u001b[0m\u001b[1;34m'Strength'\u001b[0m\u001b[1;33m,\u001b[0m\u001b[1;34m'Vision'\u001b[0m\u001b[1;33m,\u001b[0m\u001b[1;34m'Volleys'\u001b[0m\u001b[1;33m,\u001b[0m\u001b[1;34m'CAM'\u001b[0m\u001b[1;33m,\u001b[0m\u001b[1;34m'CB'\u001b[0m\u001b[1;33m,\u001b[0m\u001b[1;34m'CDM'\u001b[0m\u001b[1;33m,\u001b[0m\u001b[1;34m'CF'\u001b[0m\u001b[1;33m,\u001b[0m\u001b[1;34m'CM'\u001b[0m\u001b[1;33m,\u001b[0m\u001b[1;34m'ID'\u001b[0m\u001b[1;33m,\u001b[0m\u001b[1;34m'LAM'\u001b[0m\u001b[1;33m,\u001b[0m\u001b[1;34m'LB'\u001b[0m\u001b[1;33m,\u001b[0m\u001b[1;34m'LCB'\u001b[0m\u001b[1;33m,\u001b[0m\u001b[1;34m'LCM'\u001b[0m\u001b[1;33m,\u001b[0m\u001b[1;34m'LDM'\u001b[0m\u001b[1;33m,\u001b[0m\u001b[1;34m'LF'\u001b[0m\u001b[1;33m,\u001b[0m\u001b[1;34m'LM'\u001b[0m\u001b[1;33m,\u001b[0m\u001b[1;34m'LS'\u001b[0m\u001b[1;33m,\u001b[0m\u001b[1;34m'LW'\u001b[0m\u001b[1;33m,\u001b[0m\u001b[1;34m'LWB'\u001b[0m\u001b[1;33m,\u001b[0m\u001b[1;34m'Preferred Positions'\u001b[0m\u001b[1;33m,\u001b[0m\u001b[1;34m'RAM'\u001b[0m\u001b[1;33m,\u001b[0m\u001b[1;34m'RB'\u001b[0m\u001b[1;33m,\u001b[0m\u001b[1;34m'RCB'\u001b[0m\u001b[1;33m,\u001b[0m\u001b[1;34m'RCM'\u001b[0m\u001b[1;33m,\u001b[0m\u001b[1;34m'RDM'\u001b[0m\u001b[1;33m,\u001b[0m\u001b[1;34m'RF'\u001b[0m\u001b[1;33m,\u001b[0m\u001b[1;34m'RM'\u001b[0m\u001b[1;33m,\u001b[0m\u001b[1;34m'RS'\u001b[0m\u001b[1;33m,\u001b[0m\u001b[1;34m'RW'\u001b[0m\u001b[1;33m,\u001b[0m\u001b[1;34m'RWB'\u001b[0m\u001b[1;33m,\u001b[0m\u001b[1;34m'ST'\u001b[0m\u001b[1;33m]\u001b[0m\u001b[1;33m;\u001b[0m\u001b[1;33m\u001b[0m\u001b[0m\n\u001b[1;32m----> 4\u001b[1;33m     \u001b[1;32mreturn\u001b[0m \u001b[0mpd\u001b[0m\u001b[1;33m.\u001b[0m\u001b[0mread_csv\u001b[0m\u001b[1;33m(\u001b[0m\u001b[0mpath\u001b[0m\u001b[1;33m,\u001b[0m \u001b[0mnames\u001b[0m\u001b[1;33m=\u001b[0m\u001b[0mnames\u001b[0m\u001b[1;33m)\u001b[0m\u001b[1;33m.\u001b[0m\u001b[0mdropna\u001b[0m\u001b[1;33m(\u001b[0m\u001b[1;33m)\u001b[0m    \u001b[1;31m#Devolvemos el dataframe.\u001b[0m\u001b[1;33m\u001b[0m\u001b[0m\n\u001b[0m",
      "\u001b[1;32mC:\\Anaconda3\\lib\\site-packages\\pandas\\io\\parsers.py\u001b[0m in \u001b[0;36mparser_f\u001b[1;34m(filepath_or_buffer, sep, delimiter, header, names, index_col, usecols, squeeze, prefix, mangle_dupe_cols, dtype, engine, converters, true_values, false_values, skipinitialspace, skiprows, nrows, na_values, keep_default_na, na_filter, verbose, skip_blank_lines, parse_dates, infer_datetime_format, keep_date_col, date_parser, dayfirst, iterator, chunksize, compression, thousands, decimal, lineterminator, quotechar, quoting, escapechar, comment, encoding, dialect, tupleize_cols, error_bad_lines, warn_bad_lines, skipfooter, skip_footer, doublequote, delim_whitespace, as_recarray, compact_ints, use_unsigned, low_memory, buffer_lines, memory_map, float_precision)\u001b[0m\n\u001b[0;32m    707\u001b[0m                     skip_blank_lines=skip_blank_lines)\n\u001b[0;32m    708\u001b[0m \u001b[1;33m\u001b[0m\u001b[0m\n\u001b[1;32m--> 709\u001b[1;33m         \u001b[1;32mreturn\u001b[0m \u001b[0m_read\u001b[0m\u001b[1;33m(\u001b[0m\u001b[0mfilepath_or_buffer\u001b[0m\u001b[1;33m,\u001b[0m \u001b[0mkwds\u001b[0m\u001b[1;33m)\u001b[0m\u001b[1;33m\u001b[0m\u001b[0m\n\u001b[0m\u001b[0;32m    710\u001b[0m \u001b[1;33m\u001b[0m\u001b[0m\n\u001b[0;32m    711\u001b[0m     \u001b[0mparser_f\u001b[0m\u001b[1;33m.\u001b[0m\u001b[0m__name__\u001b[0m \u001b[1;33m=\u001b[0m \u001b[0mname\u001b[0m\u001b[1;33m\u001b[0m\u001b[0m\n",
      "\u001b[1;32mC:\\Anaconda3\\lib\\site-packages\\pandas\\io\\parsers.py\u001b[0m in \u001b[0;36m_read\u001b[1;34m(filepath_or_buffer, kwds)\u001b[0m\n\u001b[0;32m    447\u001b[0m \u001b[1;33m\u001b[0m\u001b[0m\n\u001b[0;32m    448\u001b[0m     \u001b[1;31m# Create the parser.\u001b[0m\u001b[1;33m\u001b[0m\u001b[1;33m\u001b[0m\u001b[0m\n\u001b[1;32m--> 449\u001b[1;33m     \u001b[0mparser\u001b[0m \u001b[1;33m=\u001b[0m \u001b[0mTextFileReader\u001b[0m\u001b[1;33m(\u001b[0m\u001b[0mfilepath_or_buffer\u001b[0m\u001b[1;33m,\u001b[0m \u001b[1;33m**\u001b[0m\u001b[0mkwds\u001b[0m\u001b[1;33m)\u001b[0m\u001b[1;33m\u001b[0m\u001b[0m\n\u001b[0m\u001b[0;32m    450\u001b[0m \u001b[1;33m\u001b[0m\u001b[0m\n\u001b[0;32m    451\u001b[0m     \u001b[1;32mif\u001b[0m \u001b[0mchunksize\u001b[0m \u001b[1;32mor\u001b[0m \u001b[0miterator\u001b[0m\u001b[1;33m:\u001b[0m\u001b[1;33m\u001b[0m\u001b[0m\n",
      "\u001b[1;32mC:\\Anaconda3\\lib\\site-packages\\pandas\\io\\parsers.py\u001b[0m in \u001b[0;36m__init__\u001b[1;34m(self, f, engine, **kwds)\u001b[0m\n\u001b[0;32m    816\u001b[0m             \u001b[0mself\u001b[0m\u001b[1;33m.\u001b[0m\u001b[0moptions\u001b[0m\u001b[1;33m[\u001b[0m\u001b[1;34m'has_index_names'\u001b[0m\u001b[1;33m]\u001b[0m \u001b[1;33m=\u001b[0m \u001b[0mkwds\u001b[0m\u001b[1;33m[\u001b[0m\u001b[1;34m'has_index_names'\u001b[0m\u001b[1;33m]\u001b[0m\u001b[1;33m\u001b[0m\u001b[0m\n\u001b[0;32m    817\u001b[0m \u001b[1;33m\u001b[0m\u001b[0m\n\u001b[1;32m--> 818\u001b[1;33m         \u001b[0mself\u001b[0m\u001b[1;33m.\u001b[0m\u001b[0m_make_engine\u001b[0m\u001b[1;33m(\u001b[0m\u001b[0mself\u001b[0m\u001b[1;33m.\u001b[0m\u001b[0mengine\u001b[0m\u001b[1;33m)\u001b[0m\u001b[1;33m\u001b[0m\u001b[0m\n\u001b[0m\u001b[0;32m    819\u001b[0m \u001b[1;33m\u001b[0m\u001b[0m\n\u001b[0;32m    820\u001b[0m     \u001b[1;32mdef\u001b[0m \u001b[0mclose\u001b[0m\u001b[1;33m(\u001b[0m\u001b[0mself\u001b[0m\u001b[1;33m)\u001b[0m\u001b[1;33m:\u001b[0m\u001b[1;33m\u001b[0m\u001b[0m\n",
      "\u001b[1;32mC:\\Anaconda3\\lib\\site-packages\\pandas\\io\\parsers.py\u001b[0m in \u001b[0;36m_make_engine\u001b[1;34m(self, engine)\u001b[0m\n\u001b[0;32m   1047\u001b[0m     \u001b[1;32mdef\u001b[0m \u001b[0m_make_engine\u001b[0m\u001b[1;33m(\u001b[0m\u001b[0mself\u001b[0m\u001b[1;33m,\u001b[0m \u001b[0mengine\u001b[0m\u001b[1;33m=\u001b[0m\u001b[1;34m'c'\u001b[0m\u001b[1;33m)\u001b[0m\u001b[1;33m:\u001b[0m\u001b[1;33m\u001b[0m\u001b[0m\n\u001b[0;32m   1048\u001b[0m         \u001b[1;32mif\u001b[0m \u001b[0mengine\u001b[0m \u001b[1;33m==\u001b[0m \u001b[1;34m'c'\u001b[0m\u001b[1;33m:\u001b[0m\u001b[1;33m\u001b[0m\u001b[0m\n\u001b[1;32m-> 1049\u001b[1;33m             \u001b[0mself\u001b[0m\u001b[1;33m.\u001b[0m\u001b[0m_engine\u001b[0m \u001b[1;33m=\u001b[0m \u001b[0mCParserWrapper\u001b[0m\u001b[1;33m(\u001b[0m\u001b[0mself\u001b[0m\u001b[1;33m.\u001b[0m\u001b[0mf\u001b[0m\u001b[1;33m,\u001b[0m \u001b[1;33m**\u001b[0m\u001b[0mself\u001b[0m\u001b[1;33m.\u001b[0m\u001b[0moptions\u001b[0m\u001b[1;33m)\u001b[0m\u001b[1;33m\u001b[0m\u001b[0m\n\u001b[0m\u001b[0;32m   1050\u001b[0m         \u001b[1;32melse\u001b[0m\u001b[1;33m:\u001b[0m\u001b[1;33m\u001b[0m\u001b[0m\n\u001b[0;32m   1051\u001b[0m             \u001b[1;32mif\u001b[0m \u001b[0mengine\u001b[0m \u001b[1;33m==\u001b[0m \u001b[1;34m'python'\u001b[0m\u001b[1;33m:\u001b[0m\u001b[1;33m\u001b[0m\u001b[0m\n",
      "\u001b[1;32mC:\\Anaconda3\\lib\\site-packages\\pandas\\io\\parsers.py\u001b[0m in \u001b[0;36m__init__\u001b[1;34m(self, src, **kwds)\u001b[0m\n\u001b[0;32m   1693\u001b[0m         \u001b[0mkwds\u001b[0m\u001b[1;33m[\u001b[0m\u001b[1;34m'allow_leading_cols'\u001b[0m\u001b[1;33m]\u001b[0m \u001b[1;33m=\u001b[0m \u001b[0mself\u001b[0m\u001b[1;33m.\u001b[0m\u001b[0mindex_col\u001b[0m \u001b[1;32mis\u001b[0m \u001b[1;32mnot\u001b[0m \u001b[1;32mFalse\u001b[0m\u001b[1;33m\u001b[0m\u001b[0m\n\u001b[0;32m   1694\u001b[0m \u001b[1;33m\u001b[0m\u001b[0m\n\u001b[1;32m-> 1695\u001b[1;33m         \u001b[0mself\u001b[0m\u001b[1;33m.\u001b[0m\u001b[0m_reader\u001b[0m \u001b[1;33m=\u001b[0m \u001b[0mparsers\u001b[0m\u001b[1;33m.\u001b[0m\u001b[0mTextReader\u001b[0m\u001b[1;33m(\u001b[0m\u001b[0msrc\u001b[0m\u001b[1;33m,\u001b[0m \u001b[1;33m**\u001b[0m\u001b[0mkwds\u001b[0m\u001b[1;33m)\u001b[0m\u001b[1;33m\u001b[0m\u001b[0m\n\u001b[0m\u001b[0;32m   1696\u001b[0m \u001b[1;33m\u001b[0m\u001b[0m\n\u001b[0;32m   1697\u001b[0m         \u001b[1;31m# XXX\u001b[0m\u001b[1;33m\u001b[0m\u001b[1;33m\u001b[0m\u001b[0m\n",
      "\u001b[1;32mpandas/_libs/parsers.pyx\u001b[0m in \u001b[0;36mpandas._libs.parsers.TextReader.__cinit__\u001b[1;34m()\u001b[0m\n",
      "\u001b[1;32mpandas/_libs/parsers.pyx\u001b[0m in \u001b[0;36mpandas._libs.parsers.TextReader._setup_parser_source\u001b[1;34m()\u001b[0m\n",
      "\u001b[1;31mFileNotFoundError\u001b[0m: File b'CompleteDataset.csv' does not exist"
     ]
    }
   ],
   "source": [
    "#MAIN\n",
    " \n",
    "df=loadDataset(\"CompleteDataset.csv\")                 #Cargamos el dataset.\n",
    "df=deleteFeatures(df)                                #Eliminamos atributos inútiles.\n",
    "\n",
    "#En el dataframe resultante, tenemos varios atributos y, en la última columna, la media general (overall). Esto será el objeto\n",
    "#de estudio en este proyecto. En la parte en octave, separaremos los ejemplos de entrenamiento en tres posibles clases, en\n",
    "#función de su media: <=65 --> Normales.\n",
    "#             >65 && <85 --> Buenos.\n",
    "#             >=85 -->Estrellas.\n",
    "#El sistema será capaz de clasificar los distintos jugadores en Normales, Buenos o Estrellas.\n",
    "\n",
    "display(df)\n",
    "\n",
    "#Diferenciamos entre ejemplos de entrenamiento, ejemplos de validación y ejemplos de test.\n",
    "#Los primeros consistirán en el 60% de los ejemplos iniciales. Los segundos y terceros el 20% cada uno.\n",
    "#ES IMPORTANTE SELECCIONAR EJEMPLOS ALEATORIOS DEL DF PORQUE LOS CASOS DE ENTRENAMIENTO VIENEN ORDENADOS POR OVERALL!!\n",
    "x = df.sample(int(len(df)*0.6))     #Cogemos 0.6*len(df) elementos aleatorios del df. Serán los ejemplos de entrenamiento.\n",
    "xval= df.sample(int(len(df)*0.2))   #Cogemos 0.2*len(df) elementos aleatorios del df. Serán los datos de validación.\n",
    "xtest= df.sample(int(len(df)*0.2))  #Cogemos 0.2*len(df) elementos aleatorios del df. Serán los datos de test.\n",
    "\n",
    "\n",
    "x.to_csv(path_or_buf=\"x.csv\",header=False,index=False)    #Almacenamos los resultados.\n",
    "xval.to_csv(path_or_buf=\"xval.csv\",header=False,index=False)    #Almacenamos los resultados.\n",
    "xtest.to_csv(path_or_buf=\"xtest.csv\",header=False,index=False)    #Almacenamos los resultados.\n"
   ]
  },
  {
   "cell_type": "code",
   "execution_count": null,
   "metadata": {},
   "outputs": [],
   "source": []
  }
 ],
 "metadata": {
  "kernelspec": {
   "display_name": "Python 3",
   "language": "python",
   "name": "python3"
  },
  "language_info": {
   "codemirror_mode": {
    "name": "ipython",
    "version": 3
   },
   "file_extension": ".py",
   "mimetype": "text/x-python",
   "name": "python",
   "nbconvert_exporter": "python",
   "pygments_lexer": "ipython3",
   "version": "3.6.4"
  }
 },
 "nbformat": 4,
 "nbformat_minor": 1
}
